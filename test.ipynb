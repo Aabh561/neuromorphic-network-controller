{
 "cells": [
  {
   "cell_type": "code",
   "execution_count": null,
   "id": "83d9936a",
   "metadata": {},
   "outputs": [],
   "source": [
    "!pip install brian2 networkx matplotlib ipywidgets\n",
    "\n"
   ]
  },
  {
   "cell_type": "code",
   "execution_count": null,
   "id": "67873981",
   "metadata": {},
   "outputs": [],
   "source": [
    "import numpy as np\n",
    "import networkx as nx\n",
    "import matplotlib.pyplot as plt\n",
    "from brian2 import *\n",
    "import ipywidgets as widgets\n",
    "from IPython.display import display\n"
   ]
  },
  {
   "cell_type": "code",
   "execution_count": null,
   "id": "963b40c1",
   "metadata": {},
   "outputs": [],
   "source": [
    "G = nx.cycle_graph(6)\n",
    "pos = nx.spring_layout(G, seed=42)\n",
    "nx.draw(G, pos, with_labels=True, node_color='skyblue', edge_color='gray')\n",
    "plt.title(\"Digital Twin: 6-Node Ring Network\")\n",
    "plt.show()\n",
    "n_nodes = len(G.nodes)\n"
   ]
  },
  {
   "cell_type": "code",
   "execution_count": null,
   "id": "4131d47c",
   "metadata": {},
   "outputs": [],
   "source": [
    "duration = 400*ms\n",
    "traffic_sources = PoissonGroup(n_nodes, rates='60*Hz')\n",
    "mon_input = SpikeMonitor(traffic_sources)\n"
   ]
  },
  {
   "cell_type": "code",
   "execution_count": null,
   "id": "6f9fe407",
   "metadata": {},
   "outputs": [],
   "source": [
    "eqs = '''\n",
    "dv/dt = (1.0 - v)/tau : 1\n",
    "tau : second\n",
    "'''\n",
    "\n",
    "agents = NeuronGroup(n_nodes, eqs, threshold='v>1', reset='v = 0', method='exact')\n",
    "agents.tau = '12*ms'\n",
    "\n",
    "# STDP Synapse Model\n",
    "syn_model = '''\n",
    "w : 1\n",
    "dApre/dt = -Apre / tau_pre : 1 (event-driven)\n",
    "dApost/dt = -Apost / tau_post : 1 (event-driven)\n",
    "'''\n",
    "\n",
    "on_pre = '''\n",
    "v_post += w\n",
    "Apre += dApre\n",
    "w = clip(w + Apost, 0, wmax)\n",
    "'''\n",
    "\n",
    "on_post = '''\n",
    "Apost += dApost\n",
    "w = clip(w + Apre, 0, wmax)\n",
    "'''\n",
    "\n",
    "tau_pre = 20*ms\n",
    "tau_post = 20*ms\n",
    "dApre = 0.01\n",
    "dApost = -0.012\n",
    "wmax = 1.0\n",
    "\n",
    "syn = Synapses(traffic_sources, agents, model=syn_model,\n",
    "               on_pre=on_pre, on_post=on_post)\n",
    "syn.connect(j='i')\n",
    "syn.w = '0.3 + 0.2*rand()'\n",
    "\n",
    "mon_output = SpikeMonitor(agents)\n"
   ]
  },
  {
   "cell_type": "code",
   "execution_count": null,
   "id": "467b7389",
   "metadata": {},
   "outputs": [],
   "source": [
    "def compute_firing_rates(spike_monitor, sim_time=400):\n",
    "    counts = np.array([spike_monitor.count[i] for i in range(n_nodes)])\n",
    "    return counts / sim_time\n",
    "\n",
    "def make_routing_decision(firing_rates):\n",
    "    sorted_nodes = np.argsort(-firing_rates)\n",
    "    route = sorted_nodes[:3]\n",
    "    return route\n"
   ]
  },
  {
   "cell_type": "code",
   "execution_count": null,
   "id": "dfb881e2",
   "metadata": {},
   "outputs": [],
   "source": [
    "run(duration)\n",
    "\n",
    "firing_rates = compute_firing_rates(mon_output, sim_time=duration/ms)\n",
    "routing_path = make_routing_decision(firing_rates)\n",
    "\n",
    "print(\"Firing Rates per Node:\", firing_rates)\n",
    "print(\"Routing Path (Top 3 Active Nodes):\", routing_path)\n",
    "\n",
    "plt.bar(range(n_nodes), firing_rates, color='forestgreen')\n",
    "plt.title(\"Firing Rates After Simulation\")\n",
    "plt.xlabel(\"Node ID\")\n",
    "plt.ylabel(\"Firing Rate (Hz)\")\n",
    "plt.show()\n"
   ]
  },
  {
   "cell_type": "code",
   "execution_count": null,
   "id": "2c9f32db",
   "metadata": {},
   "outputs": [],
   "source": [
    "def simulate_link_failure(graph, fail_node):\n",
    "    new_graph = graph.copy()\n",
    "    if new_graph.has_node(fail_node):\n",
    "        new_graph.remove_node(fail_node)\n",
    "    plt.figure()\n",
    "    nx.draw(new_graph, pos, with_labels=True, node_color='salmon')\n",
    "    plt.title(f\"Simulated Failure: Node {fail_node} Down\")\n",
    "    plt.show()\n"
   ]
  },
  {
   "cell_type": "code",
   "execution_count": null,
   "id": "eacabedc",
   "metadata": {},
   "outputs": [],
   "source": [
    "simulate_link_failure(G, 3)  # Try Node 3 failure\n"
   ]
  },
  {
   "cell_type": "code",
   "execution_count": null,
   "id": "23599e12",
   "metadata": {},
   "outputs": [],
   "source": [
    "fail_slider = widgets.IntSlider(min=0, max=n_nodes-1, step=1, description='Fail Node:')\n",
    "display(fail_slider)\n",
    "\n",
    "def dashboard_view(f_node):\n",
    "    G_new = G.copy()\n",
    "    if G_new.has_node(f_node):\n",
    "        G_new.remove_node(f_node)\n",
    "    plt.figure()\n",
    "    nx.draw(G_new, pos, with_labels=True, node_color='orange')\n",
    "    plt.title(f\"Live Network View: Node {f_node} Down\")\n",
    "    plt.show()\n",
    "\n",
    "widgets.interact(dashboard_view, f_node=fail_slider);\n"
   ]
  }
 ],
 "metadata": {
  "kernelspec": {
   "display_name": "base",
   "language": "python",
   "name": "python3"
  },
  "language_info": {
   "codemirror_mode": {
    "name": "ipython",
    "version": 3
   },
   "file_extension": ".py",
   "mimetype": "text/x-python",
   "name": "python",
   "nbconvert_exporter": "python",
   "pygments_lexer": "ipython3",
   "version": "3.12.4"
  }
 },
 "nbformat": 4,
 "nbformat_minor": 5
}
